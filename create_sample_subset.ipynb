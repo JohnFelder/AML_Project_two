{
 "cells": [
  {
   "cell_type": "code",
   "execution_count": null,
   "id": "c14a844f-efa7-4c7e-a22e-99bc991ea885",
   "metadata": {},
   "outputs": [],
   "source": [
    "# Import python dependencies\n",
    "import pandas as pd\n",
    "from path import Path"
   ]
  },
  {
   "cell_type": "code",
   "execution_count": null,
   "id": "899619fa-5be8-4d95-a35e-8085e5e118f1",
   "metadata": {},
   "outputs": [],
   "source": [
    "# Read in csv file to DataFrame\n",
    "csv_path = Path('Resources/PS_20174392719_1491204439457_log.csv')\n",
    "df = pd.read_csv(csv_path)\n",
    "df.head()"
   ]
  },
  {
   "cell_type": "code",
   "execution_count": null,
   "id": "9bc6a68f-16de-4afd-83aa-b51c6c034e7c",
   "metadata": {},
   "outputs": [],
   "source": [
    "# Display the shape of DataFrame (rows, columns)\n",
    "df.shape"
   ]
  },
  {
   "cell_type": "code",
   "execution_count": null,
   "id": "b088a2e1-9f51-46af-9e97-a625b59895c0",
   "metadata": {},
   "outputs": [],
   "source": [
    "# Extract a sample of the original DataFrame, by percentage\n",
    "subset_fraction = 0.1\n",
    "subset = df.sample(frac=subset_fraction)\n",
    "# Display the first five rows and the DataFrame shape\n",
    "display(subset.head())\n",
    "subset.shape"
   ]
  },
  {
   "cell_type": "code",
   "execution_count": null,
   "id": "9b71aa1c-2f85-417f-8a07-a19bbf48751e",
   "metadata": {},
   "outputs": [],
   "source": [
    "# Write the new subset back into a csv file\n",
    "filename = \"subset_\" + str(subset_fraction)\n",
    "\n",
    "filepath = Path('Resources/'+filename+'.csv')  \n",
    "subset.to_csv(filepath)"
   ]
  },
  {
   "cell_type": "code",
   "execution_count": null,
   "id": "b18b6b8f-7c66-406b-8de5-0534a8a13bc8",
   "metadata": {},
   "outputs": [],
   "source": [
    "# Confirm successful storage of the sample subset to a new csv file\n",
    "df_confirm = pd.read_csv(filepath, index_col=0)\n",
    "display(df_confirm.head())\n",
    "df_confirm.shape"
   ]
  },
  {
   "cell_type": "code",
   "execution_count": null,
   "id": "906ab058-0ec5-41d4-a535-63871296202f",
   "metadata": {},
   "outputs": [],
   "source": []
  }
 ],
 "metadata": {
  "kernelspec": {
   "display_name": "dev",
   "language": "python",
   "name": "dev"
  },
  "language_info": {
   "codemirror_mode": {
    "name": "ipython",
    "version": 3
   },
   "file_extension": ".py",
   "mimetype": "text/x-python",
   "name": "python",
   "nbconvert_exporter": "python",
   "pygments_lexer": "ipython3",
   "version": "3.7.10"
  }
 },
 "nbformat": 4,
 "nbformat_minor": 5
}
