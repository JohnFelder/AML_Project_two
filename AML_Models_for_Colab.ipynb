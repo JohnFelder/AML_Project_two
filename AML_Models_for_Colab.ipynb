{
  "cells": [
    {
      "cell_type": "code",
      "execution_count": null,
      "id": "401d799f-76e3-4d4f-9c2d-e910927ee5a1",
      "metadata": {
        "id": "401d799f-76e3-4d4f-9c2d-e910927ee5a1"
      },
      "outputs": [],
      "source": [
        "# import libraries\n",
        "from pathlib import Path\n",
        "import pandas as pd\n",
        "from sklearn.ensemble import AdaBoostClassifier\n",
        "from sklearn.svm import LinearSVC\n",
        "from sklearn.linear_model import LogisticRegression\n",
        "from sklearn.model_selection import train_test_split\n",
        "from imblearn.over_sampling import RandomOverSampler\n",
        "from sklearn.metrics import balanced_accuracy_score\n",
        "from sklearn.metrics import confusion_matrix\n",
        "from imblearn.metrics import classification_report_imbalanced\n",
        "from sklearn.preprocessing import StandardScaler"
      ]
    },
    {
      "cell_type": "code",
      "execution_count": null,
      "id": "049b353c-45b7-4bd2-802c-7ff051f2fb2f",
      "metadata": {
        "id": "049b353c-45b7-4bd2-802c-7ff051f2fb2f"
      },
      "outputs": [],
      "source": [
        "# read in csv file\n",
        "\n",
        "from google.colab import files\n",
        "uploaded = files.upload()\n",
        "\n",
        "filepath = Path('PS_20174392719_1491204439457_log-5-1.csv')\n",
        "aml_dataset= pd.read_csv(filepath)"
      ]
    },
    {
      "cell_type": "code",
      "execution_count": null,
      "id": "3e4a603e-6919-4ac8-abb5-39fb3b429dbb",
      "metadata": {
        "id": "3e4a603e-6919-4ac8-abb5-39fb3b429dbb"
      },
      "outputs": [],
      "source": [
        "# view df\n",
        "aml_dataset.head()"
      ]
    },
    {
      "cell_type": "code",
      "execution_count": null,
      "id": "3740e53d-4e58-47bb-9859-a6b25381758f",
      "metadata": {
        "id": "3740e53d-4e58-47bb-9859-a6b25381758f"
      },
      "outputs": [],
      "source": [
        "aml_dataset.shape"
      ]
    },
    {
      "cell_type": "markdown",
      "id": "704e1054-f0a7-4724-bfab-6eb0b8b99576",
      "metadata": {
        "id": "704e1054-f0a7-4724-bfab-6eb0b8b99576"
      },
      "source": [
        "## Cleaning and Prepping Dataset for Analysis"
      ]
    },
    {
      "cell_type": "code",
      "execution_count": null,
      "id": "6dafcd81-f6f1-4a4b-bcaa-da0dd066771d",
      "metadata": {
        "id": "6dafcd81-f6f1-4a4b-bcaa-da0dd066771d"
      },
      "outputs": [],
      "source": [
        "# drop unecessary columns\n",
        "aml_dataset = aml_dataset.drop(columns=['nameOrig','nameDest','isFlaggedFraud'])\n",
        "# review the df\n",
        "aml_dataset.head()"
      ]
    },
    {
      "cell_type": "code",
      "execution_count": null,
      "id": "15e3d6cd-d1d5-4575-851e-fc258bfab1c9",
      "metadata": {
        "id": "15e3d6cd-d1d5-4575-851e-fc258bfab1c9"
      },
      "outputs": [],
      "source": [
        "# using get_dummies function to encode type column to binary\n",
        "aml_dataset = pd.get_dummies(aml_dataset)\n",
        "# review the df\n",
        "aml_dataset.head()"
      ]
    },
    {
      "cell_type": "markdown",
      "id": "c3f895db-794b-4375-8515-2399c1fdc192",
      "metadata": {
        "id": "c3f895db-794b-4375-8515-2399c1fdc192"
      },
      "source": [
        "## Splitting Data into Testing and Training sets"
      ]
    },
    {
      "cell_type": "code",
      "execution_count": null,
      "id": "cfa3be84-cab4-470d-922d-34c11665015f",
      "metadata": {
        "id": "cfa3be84-cab4-470d-922d-34c11665015f"
      },
      "outputs": [],
      "source": [
        "# separate the data into labels and features\n",
        "# separate the y variable\n",
        "y = aml_dataset['isFraud']\n",
        "\n",
        "# separate the X variable\n",
        "X = aml_dataset.drop(columns='isFraud')"
      ]
    },
    {
      "cell_type": "code",
      "execution_count": null,
      "id": "88a70673-1ac8-4391-8b5a-278796f0644f",
      "metadata": {
        "id": "88a70673-1ac8-4391-8b5a-278796f0644f"
      },
      "outputs": [],
      "source": [
        "# review the y variable \n",
        "y.head()"
      ]
    },
    {
      "cell_type": "code",
      "execution_count": null,
      "id": "f36b76ed-ecdd-4433-addd-2238465ebd01",
      "metadata": {
        "id": "f36b76ed-ecdd-4433-addd-2238465ebd01"
      },
      "outputs": [],
      "source": [
        "# checking y for fraud vs not fraud\n",
        "y.value_counts()"
      ]
    },
    {
      "cell_type": "code",
      "execution_count": null,
      "id": "59a4b565-4502-4b30-9f25-fc04cc148f71",
      "metadata": {
        "id": "59a4b565-4502-4b30-9f25-fc04cc148f71"
      },
      "outputs": [],
      "source": [
        "# review the x variable\n",
        "X.head()"
      ]
    },
    {
      "cell_type": "markdown",
      "id": "f15020ff-e516-49ab-a305-e714d73510ca",
      "metadata": {
        "id": "f15020ff-e516-49ab-a305-e714d73510ca"
      },
      "source": [
        "## Prepping Variables and Data for Models"
      ]
    },
    {
      "cell_type": "code",
      "execution_count": null,
      "id": "0cdff042-3603-46a6-ba23-123f85bea104",
      "metadata": {
        "id": "0cdff042-3603-46a6-ba23-123f85bea104"
      },
      "outputs": [],
      "source": [
        "# Split the data using train_test_split\n",
        "X_train, X_test, y_train, y_test = train_test_split(X, y, random_state=1)"
      ]
    },
    {
      "cell_type": "code",
      "execution_count": null,
      "id": "05e5951f-37b5-41f7-839a-e04dc3d00dd8",
      "metadata": {
        "id": "05e5951f-37b5-41f7-839a-e04dc3d00dd8"
      },
      "outputs": [],
      "source": [
        "# Create the StandardScaler instance\n",
        "X_scaler = StandardScaler()\n",
        "\n",
        "# Fit the scaler to the features training dataset\n",
        "X_scaler.fit(X_train)\n",
        "\n",
        "# Scale both the training and testing data from the features dataset\n",
        "X_train_scaled = X_scaler.transform(X_train)\n",
        "X_test_scaled = X_scaler.transform(X_test)\n",
        "\n",
        "X_train_scaled"
      ]
    },
    {
      "cell_type": "code",
      "execution_count": null,
      "id": "7163a4b9-041d-487e-a9ac-769a6e99d1b8",
      "metadata": {
        "id": "7163a4b9-041d-487e-a9ac-769a6e99d1b8"
      },
      "outputs": [],
      "source": [
        "# assign randomoversampler to a variable\n",
        "random_oversampler = RandomOverSampler(random_state=1)\n",
        "\n",
        "# Fit the original training data to the random_oversampler model\n",
        "X_resampled, y_resampled = random_oversampler.fit_resample(X_train_scaled, y_train)"
      ]
    },
    {
      "cell_type": "code",
      "execution_count": null,
      "id": "bb71824c-71d0-4dc3-8ef7-f9c3c3e8216b",
      "metadata": {
        "id": "bb71824c-71d0-4dc3-8ef7-f9c3c3e8216b"
      },
      "outputs": [],
      "source": [
        "# check to ensure balanced data\n",
        "y_resampled.value_counts()"
      ]
    },
    {
      "cell_type": "markdown",
      "id": "ba9947ca-78ae-48a6-81cd-479dcd860930",
      "metadata": {
        "id": "ba9947ca-78ae-48a6-81cd-479dcd860930"
      },
      "source": [
        "## AdaBoostClassifier Model"
      ]
    },
    {
      "cell_type": "code",
      "execution_count": null,
      "id": "c9b9f4c8-5de0-4946-984a-1dcb55e83571",
      "metadata": {
        "id": "c9b9f4c8-5de0-4946-984a-1dcb55e83571"
      },
      "outputs": [],
      "source": [
        "# instantiate adaboostclassifier\n",
        "ada_model = AdaBoostClassifier(random_state = 1)\n",
        "\n",
        "# fit the model using the training data\n",
        "aml_model = ada_model.fit(X_resampled, y_resampled)\n",
        "\n",
        "# make a prediction using the testing data\n",
        "aml_pred = aml_model.predict(X_test_scaled)\n"
      ]
    },
    {
      "cell_type": "code",
      "execution_count": null,
      "id": "76be14f2-6193-4676-9d53-17bd73a1a7b3",
      "metadata": {
        "id": "76be14f2-6193-4676-9d53-17bd73a1a7b3"
      },
      "outputs": [],
      "source": [
        "# printing the evaluation metrics\n",
        "print(balanced_accuracy_score(y_test, aml_pred))\n",
        "confusion_matrix(y_test, aml_pred)\n",
        "print(classification_report_imbalanced(y_test, aml_pred))"
      ]
    },
    {
      "cell_type": "markdown",
      "id": "8c3edf5f-65bc-4e08-b4b4-507da80c6cc1",
      "metadata": {
        "id": "8c3edf5f-65bc-4e08-b4b4-507da80c6cc1"
      },
      "source": [
        "## LinearSVC Model"
      ]
    },
    {
      "cell_type": "code",
      "execution_count": null,
      "id": "cf479f24-337e-4ae8-ba06-4887279324d2",
      "metadata": {
        "id": "cf479f24-337e-4ae8-ba06-4887279324d2"
      },
      "outputs": [],
      "source": [
        "# instantiate linearsvc model\n",
        "linearsvc_model = LinearSVC(random_state=1)\n",
        "\n",
        "#fit the model using the training data\n",
        "aml_model = linearsvc_model.fit(X_resampled, y_resampled)\n",
        "\n",
        "# make a prediction using the data\n",
        "aml_pred = aml_model.predict(X_test_scaled)"
      ]
    },
    {
      "cell_type": "code",
      "execution_count": null,
      "id": "98c87ef7-0974-4352-8e7c-d014e821fa30",
      "metadata": {
        "id": "98c87ef7-0974-4352-8e7c-d014e821fa30"
      },
      "outputs": [],
      "source": [
        "# printing the evaluation metrics\n",
        "print(balanced_accuracy_score(y_test, aml_pred))\n",
        "print(classification_report_imbalanced(y_test, aml_pred))"
      ]
    },
    {
      "cell_type": "markdown",
      "id": "9a553124-78cd-421b-a01b-f69f0f67f673",
      "metadata": {
        "id": "9a553124-78cd-421b-a01b-f69f0f67f673"
      },
      "source": [
        "## Logistic Regression Model"
      ]
    },
    {
      "cell_type": "code",
      "execution_count": null,
      "id": "2d20dee2-6f6b-4a16-9e4e-efd03d7c861b",
      "metadata": {
        "id": "2d20dee2-6f6b-4a16-9e4e-efd03d7c861b"
      },
      "outputs": [],
      "source": [
        "# instantiate logisticregression model\n",
        "lr_model = LogisticRegression(random_state=1)\n",
        "\n",
        "# fit the model using the training data\n",
        "aml_model = lr_model.fit(X_resampled, y_resampled)\n",
        "\n",
        "# make a prediction using the data\n",
        "aml_pred = aml_model.predict(X_test_scaled)"
      ]
    },
    {
      "cell_type": "code",
      "execution_count": null,
      "id": "e13ca454-a9af-4783-b3df-081e237758cc",
      "metadata": {
        "id": "e13ca454-a9af-4783-b3df-081e237758cc"
      },
      "outputs": [],
      "source": [
        "# printing the evaluation metrics\n",
        "print(balanced_accuracy_score(y_test, aml_pred))\n",
        "print(classification_report_imbalanced(y_test, aml_pred))"
      ]
    },
    {
      "cell_type": "code",
      "execution_count": null,
      "id": "885bd4ae-9e25-4cb1-be40-b73b194e2859",
      "metadata": {
        "id": "885bd4ae-9e25-4cb1-be40-b73b194e2859"
      },
      "outputs": [],
      "source": [
        ""
      ]
    }
  ],
  "metadata": {
    "kernelspec": {
      "display_name": "dev",
      "language": "python",
      "name": "dev"
    },
    "language_info": {
      "codemirror_mode": {
        "name": "ipython",
        "version": 3
      },
      "file_extension": ".py",
      "mimetype": "text/x-python",
      "name": "python",
      "nbconvert_exporter": "python",
      "pygments_lexer": "ipython3",
      "version": "3.7.10"
    },
    "colab": {
      "name": "AML_Models.ipynb",
      "provenance": []
    }
  },
  "nbformat": 4,
  "nbformat_minor": 5
}