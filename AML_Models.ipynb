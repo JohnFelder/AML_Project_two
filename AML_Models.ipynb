{
 "cells": [
  {
   "cell_type": "code",
   "execution_count": 13,
   "id": "401d799f-76e3-4d4f-9c2d-e910927ee5a1",
   "metadata": {},
   "outputs": [],
   "source": [
    "# import libraries\n",
    "from pathlib import Path\n",
    "import pandas as pd\n",
    "from sklearn.ensemble import AdaBoostClassifier\n",
    "from sklearn.svm import LinearSVC\n",
    "from sklearn.linear_model import LogisticRegression\n",
    "from sklearn.model_selection import train_test_split\n",
    "from imblearn.over_sampling import RandomOverSampler\n",
    "from sklearn.metrics import balanced_accuracy_score\n",
    "from sklearn.metrics import confusion_matrix\n",
    "from imblearn.metrics import classification_report_imbalanced\n",
    "from sklearn.preprocessing import StandardScaler"
   ]
  },
  {
   "cell_type": "code",
   "execution_count": 2,
   "id": "049b353c-45b7-4bd2-802c-7ff051f2fb2f",
   "metadata": {},
   "outputs": [],
   "source": [
    "# read in csv file\n",
    "filepath = Path('PS_20174392719_1491204439457_log-5-1.csv')\n",
    "aml_dataset= pd.read_csv(filepath)"
   ]
  },
  {
   "cell_type": "code",
   "execution_count": 3,
   "id": "3e4a603e-6919-4ac8-abb5-39fb3b429dbb",
   "metadata": {},
   "outputs": [
    {
     "data": {
      "text/html": [
       "<div>\n",
       "<style scoped>\n",
       "    .dataframe tbody tr th:only-of-type {\n",
       "        vertical-align: middle;\n",
       "    }\n",
       "\n",
       "    .dataframe tbody tr th {\n",
       "        vertical-align: top;\n",
       "    }\n",
       "\n",
       "    .dataframe thead th {\n",
       "        text-align: right;\n",
       "    }\n",
       "</style>\n",
       "<table border=\"1\" class=\"dataframe\">\n",
       "  <thead>\n",
       "    <tr style=\"text-align: right;\">\n",
       "      <th></th>\n",
       "      <th>step</th>\n",
       "      <th>type</th>\n",
       "      <th>amount</th>\n",
       "      <th>nameOrig</th>\n",
       "      <th>oldbalanceOrg</th>\n",
       "      <th>newbalanceOrig</th>\n",
       "      <th>nameDest</th>\n",
       "      <th>oldbalanceDest</th>\n",
       "      <th>newbalanceDest</th>\n",
       "      <th>isFraud</th>\n",
       "      <th>isFlaggedFraud</th>\n",
       "    </tr>\n",
       "  </thead>\n",
       "  <tbody>\n",
       "    <tr>\n",
       "      <th>0</th>\n",
       "      <td>355</td>\n",
       "      <td>CASH_OUT</td>\n",
       "      <td>129493.82</td>\n",
       "      <td>C1386423433</td>\n",
       "      <td>496957.0</td>\n",
       "      <td>367463.18</td>\n",
       "      <td>C1136528453</td>\n",
       "      <td>0.00</td>\n",
       "      <td>129493.82</td>\n",
       "      <td>0</td>\n",
       "      <td>0</td>\n",
       "    </tr>\n",
       "    <tr>\n",
       "      <th>1</th>\n",
       "      <td>355</td>\n",
       "      <td>PAYMENT</td>\n",
       "      <td>5787.63</td>\n",
       "      <td>C1365884506</td>\n",
       "      <td>513408.0</td>\n",
       "      <td>507620.37</td>\n",
       "      <td>M1473495757</td>\n",
       "      <td>0.00</td>\n",
       "      <td>0.00</td>\n",
       "      <td>0</td>\n",
       "      <td>0</td>\n",
       "    </tr>\n",
       "    <tr>\n",
       "      <th>2</th>\n",
       "      <td>355</td>\n",
       "      <td>CASH_OUT</td>\n",
       "      <td>172499.24</td>\n",
       "      <td>C468847406</td>\n",
       "      <td>150346.0</td>\n",
       "      <td>0.00</td>\n",
       "      <td>C1947417438</td>\n",
       "      <td>0.00</td>\n",
       "      <td>172499.24</td>\n",
       "      <td>0</td>\n",
       "      <td>0</td>\n",
       "    </tr>\n",
       "    <tr>\n",
       "      <th>3</th>\n",
       "      <td>355</td>\n",
       "      <td>CASH_OUT</td>\n",
       "      <td>377391.01</td>\n",
       "      <td>C1354691509</td>\n",
       "      <td>30759.0</td>\n",
       "      <td>0.00</td>\n",
       "      <td>C1791454133</td>\n",
       "      <td>1409725.39</td>\n",
       "      <td>1697870.91</td>\n",
       "      <td>0</td>\n",
       "      <td>0</td>\n",
       "    </tr>\n",
       "    <tr>\n",
       "      <th>4</th>\n",
       "      <td>355</td>\n",
       "      <td>PAYMENT</td>\n",
       "      <td>12469.50</td>\n",
       "      <td>C1287195798</td>\n",
       "      <td>315.0</td>\n",
       "      <td>0.00</td>\n",
       "      <td>M87390822</td>\n",
       "      <td>0.00</td>\n",
       "      <td>0.00</td>\n",
       "      <td>0</td>\n",
       "      <td>0</td>\n",
       "    </tr>\n",
       "  </tbody>\n",
       "</table>\n",
       "</div>"
      ],
      "text/plain": [
       "   step      type     amount     nameOrig  oldbalanceOrg  newbalanceOrig  \\\n",
       "0   355  CASH_OUT  129493.82  C1386423433       496957.0       367463.18   \n",
       "1   355   PAYMENT    5787.63  C1365884506       513408.0       507620.37   \n",
       "2   355  CASH_OUT  172499.24   C468847406       150346.0            0.00   \n",
       "3   355  CASH_OUT  377391.01  C1354691509        30759.0            0.00   \n",
       "4   355   PAYMENT   12469.50  C1287195798          315.0            0.00   \n",
       "\n",
       "      nameDest  oldbalanceDest  newbalanceDest  isFraud  isFlaggedFraud  \n",
       "0  C1136528453            0.00       129493.82        0               0  \n",
       "1  M1473495757            0.00            0.00        0               0  \n",
       "2  C1947417438            0.00       172499.24        0               0  \n",
       "3  C1791454133      1409725.39      1697870.91        0               0  \n",
       "4    M87390822            0.00            0.00        0               0  "
      ]
     },
     "execution_count": 3,
     "metadata": {},
     "output_type": "execute_result"
    }
   ],
   "source": [
    "# view df\n",
    "aml_dataset.head()"
   ]
  },
  {
   "cell_type": "code",
   "execution_count": 4,
   "id": "3740e53d-4e58-47bb-9859-a6b25381758f",
   "metadata": {},
   "outputs": [
    {
     "data": {
      "text/plain": [
       "(636262, 11)"
      ]
     },
     "execution_count": 4,
     "metadata": {},
     "output_type": "execute_result"
    }
   ],
   "source": [
    "aml_dataset.shape"
   ]
  },
  {
   "cell_type": "markdown",
   "id": "704e1054-f0a7-4724-bfab-6eb0b8b99576",
   "metadata": {},
   "source": [
    "## Cleaning and Prepping Dataset for Analysis"
   ]
  },
  {
   "cell_type": "code",
   "execution_count": 5,
   "id": "6dafcd81-f6f1-4a4b-bcaa-da0dd066771d",
   "metadata": {},
   "outputs": [
    {
     "data": {
      "text/html": [
       "<div>\n",
       "<style scoped>\n",
       "    .dataframe tbody tr th:only-of-type {\n",
       "        vertical-align: middle;\n",
       "    }\n",
       "\n",
       "    .dataframe tbody tr th {\n",
       "        vertical-align: top;\n",
       "    }\n",
       "\n",
       "    .dataframe thead th {\n",
       "        text-align: right;\n",
       "    }\n",
       "</style>\n",
       "<table border=\"1\" class=\"dataframe\">\n",
       "  <thead>\n",
       "    <tr style=\"text-align: right;\">\n",
       "      <th></th>\n",
       "      <th>step</th>\n",
       "      <th>type</th>\n",
       "      <th>amount</th>\n",
       "      <th>oldbalanceOrg</th>\n",
       "      <th>newbalanceOrig</th>\n",
       "      <th>oldbalanceDest</th>\n",
       "      <th>newbalanceDest</th>\n",
       "      <th>isFraud</th>\n",
       "    </tr>\n",
       "  </thead>\n",
       "  <tbody>\n",
       "    <tr>\n",
       "      <th>0</th>\n",
       "      <td>355</td>\n",
       "      <td>CASH_OUT</td>\n",
       "      <td>129493.82</td>\n",
       "      <td>496957.0</td>\n",
       "      <td>367463.18</td>\n",
       "      <td>0.00</td>\n",
       "      <td>129493.82</td>\n",
       "      <td>0</td>\n",
       "    </tr>\n",
       "    <tr>\n",
       "      <th>1</th>\n",
       "      <td>355</td>\n",
       "      <td>PAYMENT</td>\n",
       "      <td>5787.63</td>\n",
       "      <td>513408.0</td>\n",
       "      <td>507620.37</td>\n",
       "      <td>0.00</td>\n",
       "      <td>0.00</td>\n",
       "      <td>0</td>\n",
       "    </tr>\n",
       "    <tr>\n",
       "      <th>2</th>\n",
       "      <td>355</td>\n",
       "      <td>CASH_OUT</td>\n",
       "      <td>172499.24</td>\n",
       "      <td>150346.0</td>\n",
       "      <td>0.00</td>\n",
       "      <td>0.00</td>\n",
       "      <td>172499.24</td>\n",
       "      <td>0</td>\n",
       "    </tr>\n",
       "    <tr>\n",
       "      <th>3</th>\n",
       "      <td>355</td>\n",
       "      <td>CASH_OUT</td>\n",
       "      <td>377391.01</td>\n",
       "      <td>30759.0</td>\n",
       "      <td>0.00</td>\n",
       "      <td>1409725.39</td>\n",
       "      <td>1697870.91</td>\n",
       "      <td>0</td>\n",
       "    </tr>\n",
       "    <tr>\n",
       "      <th>4</th>\n",
       "      <td>355</td>\n",
       "      <td>PAYMENT</td>\n",
       "      <td>12469.50</td>\n",
       "      <td>315.0</td>\n",
       "      <td>0.00</td>\n",
       "      <td>0.00</td>\n",
       "      <td>0.00</td>\n",
       "      <td>0</td>\n",
       "    </tr>\n",
       "  </tbody>\n",
       "</table>\n",
       "</div>"
      ],
      "text/plain": [
       "   step      type     amount  oldbalanceOrg  newbalanceOrig  oldbalanceDest  \\\n",
       "0   355  CASH_OUT  129493.82       496957.0       367463.18            0.00   \n",
       "1   355   PAYMENT    5787.63       513408.0       507620.37            0.00   \n",
       "2   355  CASH_OUT  172499.24       150346.0            0.00            0.00   \n",
       "3   355  CASH_OUT  377391.01        30759.0            0.00      1409725.39   \n",
       "4   355   PAYMENT   12469.50          315.0            0.00            0.00   \n",
       "\n",
       "   newbalanceDest  isFraud  \n",
       "0       129493.82        0  \n",
       "1            0.00        0  \n",
       "2       172499.24        0  \n",
       "3      1697870.91        0  \n",
       "4            0.00        0  "
      ]
     },
     "execution_count": 5,
     "metadata": {},
     "output_type": "execute_result"
    }
   ],
   "source": [
    "# drop unecessary columns\n",
    "aml_dataset = aml_dataset.drop(columns=['nameOrig','nameDest','isFlaggedFraud'])\n",
    "# review the df\n",
    "aml_dataset.head()"
   ]
  },
  {
   "cell_type": "code",
   "execution_count": 6,
   "id": "15e3d6cd-d1d5-4575-851e-fc258bfab1c9",
   "metadata": {},
   "outputs": [
    {
     "data": {
      "text/html": [
       "<div>\n",
       "<style scoped>\n",
       "    .dataframe tbody tr th:only-of-type {\n",
       "        vertical-align: middle;\n",
       "    }\n",
       "\n",
       "    .dataframe tbody tr th {\n",
       "        vertical-align: top;\n",
       "    }\n",
       "\n",
       "    .dataframe thead th {\n",
       "        text-align: right;\n",
       "    }\n",
       "</style>\n",
       "<table border=\"1\" class=\"dataframe\">\n",
       "  <thead>\n",
       "    <tr style=\"text-align: right;\">\n",
       "      <th></th>\n",
       "      <th>step</th>\n",
       "      <th>amount</th>\n",
       "      <th>oldbalanceOrg</th>\n",
       "      <th>newbalanceOrig</th>\n",
       "      <th>oldbalanceDest</th>\n",
       "      <th>newbalanceDest</th>\n",
       "      <th>isFraud</th>\n",
       "      <th>type_CASH_IN</th>\n",
       "      <th>type_CASH_OUT</th>\n",
       "      <th>type_DEBIT</th>\n",
       "      <th>type_PAYMENT</th>\n",
       "      <th>type_TRANSFER</th>\n",
       "    </tr>\n",
       "  </thead>\n",
       "  <tbody>\n",
       "    <tr>\n",
       "      <th>0</th>\n",
       "      <td>355</td>\n",
       "      <td>129493.82</td>\n",
       "      <td>496957.0</td>\n",
       "      <td>367463.18</td>\n",
       "      <td>0.00</td>\n",
       "      <td>129493.82</td>\n",
       "      <td>0</td>\n",
       "      <td>0</td>\n",
       "      <td>1</td>\n",
       "      <td>0</td>\n",
       "      <td>0</td>\n",
       "      <td>0</td>\n",
       "    </tr>\n",
       "    <tr>\n",
       "      <th>1</th>\n",
       "      <td>355</td>\n",
       "      <td>5787.63</td>\n",
       "      <td>513408.0</td>\n",
       "      <td>507620.37</td>\n",
       "      <td>0.00</td>\n",
       "      <td>0.00</td>\n",
       "      <td>0</td>\n",
       "      <td>0</td>\n",
       "      <td>0</td>\n",
       "      <td>0</td>\n",
       "      <td>1</td>\n",
       "      <td>0</td>\n",
       "    </tr>\n",
       "    <tr>\n",
       "      <th>2</th>\n",
       "      <td>355</td>\n",
       "      <td>172499.24</td>\n",
       "      <td>150346.0</td>\n",
       "      <td>0.00</td>\n",
       "      <td>0.00</td>\n",
       "      <td>172499.24</td>\n",
       "      <td>0</td>\n",
       "      <td>0</td>\n",
       "      <td>1</td>\n",
       "      <td>0</td>\n",
       "      <td>0</td>\n",
       "      <td>0</td>\n",
       "    </tr>\n",
       "    <tr>\n",
       "      <th>3</th>\n",
       "      <td>355</td>\n",
       "      <td>377391.01</td>\n",
       "      <td>30759.0</td>\n",
       "      <td>0.00</td>\n",
       "      <td>1409725.39</td>\n",
       "      <td>1697870.91</td>\n",
       "      <td>0</td>\n",
       "      <td>0</td>\n",
       "      <td>1</td>\n",
       "      <td>0</td>\n",
       "      <td>0</td>\n",
       "      <td>0</td>\n",
       "    </tr>\n",
       "    <tr>\n",
       "      <th>4</th>\n",
       "      <td>355</td>\n",
       "      <td>12469.50</td>\n",
       "      <td>315.0</td>\n",
       "      <td>0.00</td>\n",
       "      <td>0.00</td>\n",
       "      <td>0.00</td>\n",
       "      <td>0</td>\n",
       "      <td>0</td>\n",
       "      <td>0</td>\n",
       "      <td>0</td>\n",
       "      <td>1</td>\n",
       "      <td>0</td>\n",
       "    </tr>\n",
       "  </tbody>\n",
       "</table>\n",
       "</div>"
      ],
      "text/plain": [
       "   step     amount  oldbalanceOrg  newbalanceOrig  oldbalanceDest  \\\n",
       "0   355  129493.82       496957.0       367463.18            0.00   \n",
       "1   355    5787.63       513408.0       507620.37            0.00   \n",
       "2   355  172499.24       150346.0            0.00            0.00   \n",
       "3   355  377391.01        30759.0            0.00      1409725.39   \n",
       "4   355   12469.50          315.0            0.00            0.00   \n",
       "\n",
       "   newbalanceDest  isFraud  type_CASH_IN  type_CASH_OUT  type_DEBIT  \\\n",
       "0       129493.82        0             0              1           0   \n",
       "1            0.00        0             0              0           0   \n",
       "2       172499.24        0             0              1           0   \n",
       "3      1697870.91        0             0              1           0   \n",
       "4            0.00        0             0              0           0   \n",
       "\n",
       "   type_PAYMENT  type_TRANSFER  \n",
       "0             0              0  \n",
       "1             1              0  \n",
       "2             0              0  \n",
       "3             0              0  \n",
       "4             1              0  "
      ]
     },
     "execution_count": 6,
     "metadata": {},
     "output_type": "execute_result"
    }
   ],
   "source": [
    "# using get_dummies function to encode type column to binary\n",
    "aml_dataset = pd.get_dummies(aml_dataset)\n",
    "# review the df\n",
    "aml_dataset.head()"
   ]
  },
  {
   "cell_type": "markdown",
   "id": "c3f895db-794b-4375-8515-2399c1fdc192",
   "metadata": {},
   "source": [
    "## Splitting Data into Testing and Training sets"
   ]
  },
  {
   "cell_type": "code",
   "execution_count": 7,
   "id": "cfa3be84-cab4-470d-922d-34c11665015f",
   "metadata": {},
   "outputs": [],
   "source": [
    "# separate the data into labels and features\n",
    "# separate the y variable\n",
    "y = aml_dataset['isFraud']\n",
    "\n",
    "# separate the X variable\n",
    "X = aml_dataset.drop(columns='isFraud')"
   ]
  },
  {
   "cell_type": "code",
   "execution_count": 8,
   "id": "88a70673-1ac8-4391-8b5a-278796f0644f",
   "metadata": {},
   "outputs": [
    {
     "data": {
      "text/plain": [
       "0    0\n",
       "1    0\n",
       "2    0\n",
       "3    0\n",
       "4    0\n",
       "Name: isFraud, dtype: int64"
      ]
     },
     "execution_count": 8,
     "metadata": {},
     "output_type": "execute_result"
    }
   ],
   "source": [
    "# review the y variable \n",
    "y.head()"
   ]
  },
  {
   "cell_type": "code",
   "execution_count": 9,
   "id": "f36b76ed-ecdd-4433-addd-2238465ebd01",
   "metadata": {},
   "outputs": [
    {
     "data": {
      "text/plain": [
       "0    635772\n",
       "1       490\n",
       "Name: isFraud, dtype: int64"
      ]
     },
     "execution_count": 9,
     "metadata": {},
     "output_type": "execute_result"
    }
   ],
   "source": [
    "# checking y for fraud vs not fraud\n",
    "y.value_counts()"
   ]
  },
  {
   "cell_type": "code",
   "execution_count": 10,
   "id": "59a4b565-4502-4b30-9f25-fc04cc148f71",
   "metadata": {},
   "outputs": [
    {
     "data": {
      "text/html": [
       "<div>\n",
       "<style scoped>\n",
       "    .dataframe tbody tr th:only-of-type {\n",
       "        vertical-align: middle;\n",
       "    }\n",
       "\n",
       "    .dataframe tbody tr th {\n",
       "        vertical-align: top;\n",
       "    }\n",
       "\n",
       "    .dataframe thead th {\n",
       "        text-align: right;\n",
       "    }\n",
       "</style>\n",
       "<table border=\"1\" class=\"dataframe\">\n",
       "  <thead>\n",
       "    <tr style=\"text-align: right;\">\n",
       "      <th></th>\n",
       "      <th>step</th>\n",
       "      <th>amount</th>\n",
       "      <th>oldbalanceOrg</th>\n",
       "      <th>newbalanceOrig</th>\n",
       "      <th>oldbalanceDest</th>\n",
       "      <th>newbalanceDest</th>\n",
       "      <th>type_CASH_IN</th>\n",
       "      <th>type_CASH_OUT</th>\n",
       "      <th>type_DEBIT</th>\n",
       "      <th>type_PAYMENT</th>\n",
       "      <th>type_TRANSFER</th>\n",
       "    </tr>\n",
       "  </thead>\n",
       "  <tbody>\n",
       "    <tr>\n",
       "      <th>0</th>\n",
       "      <td>355</td>\n",
       "      <td>129493.82</td>\n",
       "      <td>496957.0</td>\n",
       "      <td>367463.18</td>\n",
       "      <td>0.00</td>\n",
       "      <td>129493.82</td>\n",
       "      <td>0</td>\n",
       "      <td>1</td>\n",
       "      <td>0</td>\n",
       "      <td>0</td>\n",
       "      <td>0</td>\n",
       "    </tr>\n",
       "    <tr>\n",
       "      <th>1</th>\n",
       "      <td>355</td>\n",
       "      <td>5787.63</td>\n",
       "      <td>513408.0</td>\n",
       "      <td>507620.37</td>\n",
       "      <td>0.00</td>\n",
       "      <td>0.00</td>\n",
       "      <td>0</td>\n",
       "      <td>0</td>\n",
       "      <td>0</td>\n",
       "      <td>1</td>\n",
       "      <td>0</td>\n",
       "    </tr>\n",
       "    <tr>\n",
       "      <th>2</th>\n",
       "      <td>355</td>\n",
       "      <td>172499.24</td>\n",
       "      <td>150346.0</td>\n",
       "      <td>0.00</td>\n",
       "      <td>0.00</td>\n",
       "      <td>172499.24</td>\n",
       "      <td>0</td>\n",
       "      <td>1</td>\n",
       "      <td>0</td>\n",
       "      <td>0</td>\n",
       "      <td>0</td>\n",
       "    </tr>\n",
       "    <tr>\n",
       "      <th>3</th>\n",
       "      <td>355</td>\n",
       "      <td>377391.01</td>\n",
       "      <td>30759.0</td>\n",
       "      <td>0.00</td>\n",
       "      <td>1409725.39</td>\n",
       "      <td>1697870.91</td>\n",
       "      <td>0</td>\n",
       "      <td>1</td>\n",
       "      <td>0</td>\n",
       "      <td>0</td>\n",
       "      <td>0</td>\n",
       "    </tr>\n",
       "    <tr>\n",
       "      <th>4</th>\n",
       "      <td>355</td>\n",
       "      <td>12469.50</td>\n",
       "      <td>315.0</td>\n",
       "      <td>0.00</td>\n",
       "      <td>0.00</td>\n",
       "      <td>0.00</td>\n",
       "      <td>0</td>\n",
       "      <td>0</td>\n",
       "      <td>0</td>\n",
       "      <td>1</td>\n",
       "      <td>0</td>\n",
       "    </tr>\n",
       "  </tbody>\n",
       "</table>\n",
       "</div>"
      ],
      "text/plain": [
       "   step     amount  oldbalanceOrg  newbalanceOrig  oldbalanceDest  \\\n",
       "0   355  129493.82       496957.0       367463.18            0.00   \n",
       "1   355    5787.63       513408.0       507620.37            0.00   \n",
       "2   355  172499.24       150346.0            0.00            0.00   \n",
       "3   355  377391.01        30759.0            0.00      1409725.39   \n",
       "4   355   12469.50          315.0            0.00            0.00   \n",
       "\n",
       "   newbalanceDest  type_CASH_IN  type_CASH_OUT  type_DEBIT  type_PAYMENT  \\\n",
       "0       129493.82             0              1           0             0   \n",
       "1            0.00             0              0           0             1   \n",
       "2       172499.24             0              1           0             0   \n",
       "3      1697870.91             0              1           0             0   \n",
       "4            0.00             0              0           0             1   \n",
       "\n",
       "   type_TRANSFER  \n",
       "0              0  \n",
       "1              0  \n",
       "2              0  \n",
       "3              0  \n",
       "4              0  "
      ]
     },
     "execution_count": 10,
     "metadata": {},
     "output_type": "execute_result"
    }
   ],
   "source": [
    "# review the x variable\n",
    "X.head()"
   ]
  },
  {
   "cell_type": "markdown",
   "id": "f15020ff-e516-49ab-a305-e714d73510ca",
   "metadata": {},
   "source": [
    "## Prepping Variables and Data for Models"
   ]
  },
  {
   "cell_type": "code",
   "execution_count": 11,
   "id": "0cdff042-3603-46a6-ba23-123f85bea104",
   "metadata": {},
   "outputs": [],
   "source": [
    "# Split the data using train_test_split\n",
    "X_train, X_test, y_train, y_test = train_test_split(X, y, random_state=1)"
   ]
  },
  {
   "cell_type": "code",
   "execution_count": 24,
   "id": "05e5951f-37b5-41f7-839a-e04dc3d00dd8",
   "metadata": {},
   "outputs": [
    {
     "data": {
      "text/plain": [
       "array([[-0.38670632, -0.03442918, -0.28938054, ..., -0.08289869,\n",
       "        -0.71924374, -0.30311178],\n",
       "       [ 0.31778955, -0.11357049, -0.28562729, ..., -0.08289869,\n",
       "        -0.71924374, -0.30311178],\n",
       "       [-0.38670632, -0.39211606, -0.26758961, ..., -0.08289869,\n",
       "         1.39034927, -0.30311178],\n",
       "       ...,\n",
       "       [ 0.47434418, -0.3865021 , -0.27596878, ..., -0.08289869,\n",
       "         1.39034927, -0.30311178],\n",
       "       [ 1.17884005, -0.38056772, -0.26909172, ..., -0.08289869,\n",
       "         1.39034927, -0.30311178],\n",
       "       [-0.62153827,  3.19355382, -0.2720152 , ..., -0.08289869,\n",
       "        -0.71924374,  3.29911292]])"
      ]
     },
     "execution_count": 24,
     "metadata": {},
     "output_type": "execute_result"
    }
   ],
   "source": [
    "# Create the StandardScaler instance\n",
    "X_scaler = StandardScaler()\n",
    "\n",
    "# Fit the scaler to the features training dataset\n",
    "X_scaler.fit(X_train)\n",
    "\n",
    "# Scale both the training and testing data from the features dataset\n",
    "X_train_scaled = X_scaler.transform(X_train)\n",
    "X_test_scaled = X_scaler.transform(X_test)\n",
    "\n",
    "X_train_scaled"
   ]
  },
  {
   "cell_type": "code",
   "execution_count": 15,
   "id": "7163a4b9-041d-487e-a9ac-769a6e99d1b8",
   "metadata": {},
   "outputs": [],
   "source": [
    "# assign randomoversampler to a variable\n",
    "random_oversampler = RandomOverSampler(random_state=1)\n",
    "\n",
    "# Fit the original training data to the random_oversampler model\n",
    "X_resampled, y_resampled = random_oversampler.fit_resample(X_train_scaled, y_train)"
   ]
  },
  {
   "cell_type": "code",
   "execution_count": 16,
   "id": "bb71824c-71d0-4dc3-8ef7-f9c3c3e8216b",
   "metadata": {},
   "outputs": [
    {
     "data": {
      "text/plain": [
       "1    476833\n",
       "0    476833\n",
       "Name: isFraud, dtype: int64"
      ]
     },
     "execution_count": 16,
     "metadata": {},
     "output_type": "execute_result"
    }
   ],
   "source": [
    "# check to ensure balanced data\n",
    "y_resampled.value_counts()"
   ]
  },
  {
   "cell_type": "markdown",
   "id": "ba9947ca-78ae-48a6-81cd-479dcd860930",
   "metadata": {},
   "source": [
    "## AdaBoostClassifier Model"
   ]
  },
  {
   "cell_type": "code",
   "execution_count": 17,
   "id": "c9b9f4c8-5de0-4946-984a-1dcb55e83571",
   "metadata": {},
   "outputs": [],
   "source": [
    "# instantiate adaboostclassifier\n",
    "ada_model = AdaBoostClassifier(random_state = 1)\n",
    "\n",
    "# fit the model using the training data\n",
    "aml_model = ada_model.fit(X_resampled, y_resampled)\n",
    "\n",
    "# make a prediction using the testing data\n",
    "aml_pred = aml_model.predict(X_test_scaled)\n"
   ]
  },
  {
   "cell_type": "code",
   "execution_count": 18,
   "id": "76be14f2-6193-4676-9d53-17bd73a1a7b3",
   "metadata": {},
   "outputs": [
    {
     "name": "stdout",
     "output_type": "stream",
     "text": [
      "0.9885538219411965\n",
      "                   pre       rec       spe        f1       geo       iba       sup\n",
      "\n",
      "          0       1.00      0.98      0.99      0.99      0.99      0.98    158939\n",
      "          1       0.05      0.99      0.98      0.10      0.99      0.98       127\n",
      "\n",
      "avg / total       1.00      0.98      0.99      0.99      0.99      0.98    159066\n",
      "\n"
     ]
    }
   ],
   "source": [
    "# printing the evaluation metrics\n",
    "print(balanced_accuracy_score(y_test, aml_pred))\n",
    "confusion_matrix(y_test, aml_pred)\n",
    "print(classification_report_imbalanced(y_test, aml_pred))"
   ]
  },
  {
   "cell_type": "markdown",
   "id": "8c3edf5f-65bc-4e08-b4b4-507da80c6cc1",
   "metadata": {},
   "source": [
    "## LinearSVC Model"
   ]
  },
  {
   "cell_type": "code",
   "execution_count": 19,
   "id": "cf479f24-337e-4ae8-ba06-4887279324d2",
   "metadata": {},
   "outputs": [
    {
     "name": "stderr",
     "output_type": "stream",
     "text": [
      "C:\\Users\\owner\\anaconda3\\envs\\dev\\lib\\site-packages\\sklearn\\svm\\_base.py:977: ConvergenceWarning: Liblinear failed to converge, increase the number of iterations.\n",
      "  \"the number of iterations.\", ConvergenceWarning)\n"
     ]
    }
   ],
   "source": [
    "# instantiate linearsvc model\n",
    "linearsvc_model = LinearSVC(random_state=1)\n",
    "\n",
    "#fit the model using the training data\n",
    "aml_model = linearsvc_model.fit(X_resampled, y_resampled)\n",
    "\n",
    "# make a prediction using the data\n",
    "aml_pred = aml_model.predict(X_test_scaled)"
   ]
  },
  {
   "cell_type": "code",
   "execution_count": 20,
   "id": "98c87ef7-0974-4352-8e7c-d014e821fa30",
   "metadata": {},
   "outputs": [
    {
     "name": "stdout",
     "output_type": "stream",
     "text": [
      "0.9391389347460743\n",
      "                   pre       rec       spe        f1       geo       iba       sup\n",
      "\n",
      "          0       1.00      0.95      0.93      0.97      0.94      0.88    158939\n",
      "          1       0.01      0.93      0.95      0.03      0.94      0.88       127\n",
      "\n",
      "avg / total       1.00      0.95      0.93      0.97      0.94      0.88    159066\n",
      "\n"
     ]
    }
   ],
   "source": [
    "# printing the evaluation metrics\n",
    "print(balanced_accuracy_score(y_test, aml_pred))\n",
    "print(classification_report_imbalanced(y_test, aml_pred))"
   ]
  },
  {
   "cell_type": "markdown",
   "id": "9a553124-78cd-421b-a01b-f69f0f67f673",
   "metadata": {},
   "source": [
    "## Logistic Regression Model"
   ]
  },
  {
   "cell_type": "code",
   "execution_count": 21,
   "id": "2d20dee2-6f6b-4a16-9e4e-efd03d7c861b",
   "metadata": {},
   "outputs": [
    {
     "name": "stderr",
     "output_type": "stream",
     "text": [
      "C:\\Users\\owner\\anaconda3\\envs\\dev\\lib\\site-packages\\sklearn\\linear_model\\_logistic.py:764: ConvergenceWarning: lbfgs failed to converge (status=1):\n",
      "STOP: TOTAL NO. of ITERATIONS REACHED LIMIT.\n",
      "\n",
      "Increase the number of iterations (max_iter) or scale the data as shown in:\n",
      "    https://scikit-learn.org/stable/modules/preprocessing.html\n",
      "Please also refer to the documentation for alternative solver options:\n",
      "    https://scikit-learn.org/stable/modules/linear_model.html#logistic-regression\n",
      "  extra_warning_msg=_LOGISTIC_SOLVER_CONVERGENCE_MSG)\n"
     ]
    }
   ],
   "source": [
    "# instantiate logisticregression model\n",
    "lr_model = LogisticRegression(random_state=1)\n",
    "\n",
    "# fit the model using the training data\n",
    "aml_model = lr_model.fit(X_resampled, y_resampled)\n",
    "\n",
    "# make a prediction using the data\n",
    "aml_pred = aml_model.predict(X_test_scaled)"
   ]
  },
  {
   "cell_type": "code",
   "execution_count": 22,
   "id": "e13ca454-a9af-4783-b3df-081e237758cc",
   "metadata": {},
   "outputs": [
    {
     "name": "stdout",
     "output_type": "stream",
     "text": [
      "0.9480793973699513\n",
      "                   pre       rec       spe        f1       geo       iba       sup\n",
      "\n",
      "          0       1.00      0.95      0.94      0.98      0.95      0.90    158939\n",
      "          1       0.02      0.94      0.95      0.03      0.95      0.90       127\n",
      "\n",
      "avg / total       1.00      0.95      0.94      0.97      0.95      0.90    159066\n",
      "\n"
     ]
    }
   ],
   "source": [
    "# printing the evaluation metrics\n",
    "print(balanced_accuracy_score(y_test, aml_pred))\n",
    "print(classification_report_imbalanced(y_test, aml_pred))"
   ]
  },
  {
   "cell_type": "code",
   "execution_count": null,
   "id": "885bd4ae-9e25-4cb1-be40-b73b194e2859",
   "metadata": {},
   "outputs": [],
   "source": []
  }
 ],
 "metadata": {
  "kernelspec": {
   "display_name": "dev",
   "language": "python",
   "name": "dev"
  },
  "language_info": {
   "codemirror_mode": {
    "name": "ipython",
    "version": 3
   },
   "file_extension": ".py",
   "mimetype": "text/x-python",
   "name": "python",
   "nbconvert_exporter": "python",
   "pygments_lexer": "ipython3",
   "version": "3.7.10"
  }
 },
 "nbformat": 4,
 "nbformat_minor": 5
}
